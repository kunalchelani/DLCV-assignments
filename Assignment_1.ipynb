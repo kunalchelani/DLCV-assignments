{
 "cells": [
  {
   "cell_type": "markdown",
   "metadata": {},
   "source": [
    "# Assignment 1\n",
    "\n",
    "#### Due Date: 24th Jan'18\n",
    "\n",
    "In this assignment we will cover the basics of Machine Learning. We will cover the following topics:\n",
    "\n",
    "1) Linear Regression\n",
    "\n",
    "2) Logistic Regression\n",
    "\n",
    "3) EM Algorithm\n",
    "\n",
    "4) K-means/Hirarchical Clustering.\n",
    "\n",
    "It is crucial to get down to the nitty gritty of the code to implement all of these. No external packages (like scipy), which directly give functions for these algorithms, are to be used. "
   ]
  },
  {
   "cell_type": "markdown",
   "metadata": {},
   "source": [
    "## Linear Regression\n",
    "\n",
    "Defination: Given a data set ${\\displaystyle \\{y_{i},\\,x_{i1},\\ldots ,x_{ip}\\}_{i=1}^{n}} $ of $n$ statistical units, a linear regression model assumes that the relationship between the dependent variable $y_i$ and the $p$-vector of regressors $x_i$ is linear. This relationship is modeled through a disturbance term or error variable $ε_i$ - an unobserved random variable that adds noise to the linear relationship between the dependent variable and regressors. Thus the model takes the form:\n",
    "\n",
    "$$ {\\displaystyle \\mathbf {y} =X{\\boldsymbol {\\beta }}+{\\boldsymbol {\\varepsilon }},\\,} $$\n",
    "\n",
    "where,\n",
    "\n",
    "$$ \\mathbf {y} ={\\begin{pmatrix}y_{1}\\\\y_{2}\\\\\\vdots \\\\y_{n}\\end{pmatrix}},\\quad $$\n",
    "\n",
    "$$ {\\displaystyle X={\\begin{pmatrix}\\mathbf {x} _{1}^{\\top }\\\\\\mathbf {x} _{2}^{\\top }\\\\\\vdots \\\\\\mathbf {x} _{n}^{\\top }\\end{pmatrix}}={\\begin{pmatrix}1&x_{11}&\\cdots &x_{1p}\\\\1&x_{21}&\\cdots &x_{2p}\\\\\\vdots &\\vdots &\\ddots &\\vdots \\\\1&x_{n1}&\\cdots &x_{np}\\end{pmatrix}},}\n",
    "$$\n",
    "\n",
    "$$ {\\displaystyle {\\boldsymbol {\\beta }}={\\begin{pmatrix}\\beta _{0}\\\\\\beta _{1}\\\\\\beta _{2}\\\\\\vdots \\\\\\beta _{p}\\end{pmatrix}},\\quad {\\boldsymbol {\\varepsilon }}={\\begin{pmatrix}\\varepsilon _{1}\\\\\\varepsilon _{2}\\\\\\vdots \\\\\\varepsilon _{n}\\end{pmatrix}}.} \n",
    "$$\n"
   ]
  },
  {
   "cell_type": "markdown",
   "metadata": {},
   "source": [
    "For this problem, in the class lecture we covered the Least Square Solution, which can be formulated as:\n",
    "\n",
    "$${\\displaystyle {\\hat {\\boldsymbol {\\beta }}}=(\\mathbf {X} ^{\\top }\\mathbf {X} )^{-1}\\mathbf {X} ^{\\top }\\mathbf {y} =\\left(\\sum \\mathbf {x} _{i}\\mathbf {x} _{i}^{\\top }\\right)^{-1}\\left(\\sum \\mathbf {x} _{i}y_{i}\\right).} $$"
   ]
  },
  {
   "cell_type": "markdown",
   "metadata": {},
   "source": [
    "## Question 1\n",
    "\n",
    "a) You will write the code to find the LSS for the given data. The data contains 3 columns, each for $y, X_{1}$, and $X_{2}$ respectively. Few of the possible models are:\n",
    "\n",
    "$$ {\\displaystyle \\mathbf {y} ={\\boldsymbol {\\beta_{1} }}X_1+{\\boldsymbol {\\beta_{0} }}+{\\boldsymbol {\\varepsilon }},\\,} $$\n",
    "\n",
    "\n",
    "$$ {\\displaystyle \\mathbf {y} ={\\boldsymbol {\\beta_{2} }}X_2+{\\boldsymbol {\\beta_{0} }}+{\\boldsymbol {\\varepsilon }},\\,} $$\n",
    "\n",
    "\n",
    "$$ {\\displaystyle \\mathbf {y} ={\\boldsymbol {\\beta_{1} }}X_1+ {\\boldsymbol {\\beta_{2} }}X_2+{\\boldsymbol {\\beta_{0} }}+{\\boldsymbol {\\varepsilon }},\\,} $$\n",
    "\n",
    "Given this data, find the coefficients for each of these models.\n",
    "\n",
    "b) Now that you have three models, you must select the best one. Use Cross-validation with 5 folds on the dataset to find the optimal model (On the basis of RMSE on the test partition). "
   ]
  },
  {
   "cell_type": "code",
   "execution_count": 1,
   "metadata": {
    "scrolled": true
   },
   "outputs": [
    {
     "name": "stdout",
     "output_type": "stream",
     "text": [
      "[  82.55935339 -208.39095947]\n",
      "[-2694.47627382     4.85238331]\n",
      "[-947.95740796 -206.47337776    3.04933431]\n"
     ]
    }
   ],
   "source": [
    "import numpy as np\n",
    "# Load the dataset \n",
    "train_data = np.load('utils/assign_1_data_1_train.npy')\n",
    "# now write the code for finding the solution for each of the three models.\n",
    "\n",
    "Y = train_data[:,0]\n",
    "\n",
    "# Model 1\n",
    "\n",
    "X1 = train_data[:,1:2]\n",
    "X1 = np.c_[np.ones(X1.shape[0]), X1]\n",
    "Beta1 = np.matmul(np.linalg.inv(np.matmul(X1.transpose(), X1)), (np.matmul(X1.transpose(), Y)))\n",
    "print Beta1\n",
    "\n",
    "# Model 2\n",
    "\n",
    "X2 = train_data[:,2:3]\n",
    "X2 = np.c_[np.ones(X2.shape[0]), X2]\n",
    "Beta2 = np.matmul(np.linalg.inv(np.matmul(X2.transpose(), X2)), (np.matmul(X2.transpose(), Y)))\n",
    "print Beta2\n",
    "\n",
    "# Model 3\n",
    "\n",
    "X3 = train_data[:,1:3]\n",
    "X3 = np.c_[np.ones(X3.shape[0]), X3]\n",
    "Beta3 = np.matmul(np.linalg.inv(np.matmul(X3.transpose(), X3)), (np.matmul(X3.transpose(), Y)))\n",
    "print Beta3\n"
   ]
  },
  {
   "cell_type": "code",
   "execution_count": 2,
   "metadata": {
    "collapsed": true
   },
   "outputs": [],
   "source": [
    "# Finally, Write The estimates of the betas here:\n",
    "\n",
    "# Model 1\n",
    "\n",
    "Beta10 =  82.55935339\n",
    "Beta11 = -208.39095947\n",
    "\n",
    "# Model 2\n",
    "\n",
    "Beta20 = -2694.47627382\n",
    "Beta21 = 4.85238331\n",
    "\n",
    "# Model 3\n",
    "\n",
    "Beta30 = -947.95740796\n",
    "Beta31 = -206.47337776\n",
    "Beta32 = 3.04933431"
   ]
  },
  {
   "cell_type": "code",
   "execution_count": 3,
   "metadata": {},
   "outputs": [
    {
     "name": "stdout",
     "output_type": "stream",
     "text": [
      "10994.9811277 17357.7837699 10911.6100257\n",
      "Model 3 seems to be the best based on above cross validaton\n"
     ]
    }
   ],
   "source": [
    "import math\n",
    "# partition the dataset into 5 random folds.\n",
    "shuffled = np.copy(train_data)\n",
    "np.random.shuffle(shuffled)\n",
    "l = shuffled.shape[0]\n",
    "fold = np.zeros((5,int(l/5)))\n",
    "rmse1 = rmse2 =rmse3 =0\n",
    "for i in range(0,5):\n",
    "    start = (l*i)/5\n",
    "    end = (l*(i+1))/5\n",
    "    fold[i] = np.arange(start, end)\n",
    "\n",
    "# for each fold, approx. model from the remaining folds, and calculate RMSE on the test fold.\n",
    "for i in range(0,5):\n",
    "    test = shuffled[fold[i].astype(int), :]\n",
    "    train = shuffled[np.setdiff1d(np.arange(0,l), fold[i]),:]\n",
    "    \n",
    "    Y = train[:,0]\n",
    "    Ytest = test[:,0]\n",
    "    \n",
    "    trainshp = train.shape\n",
    "    testshp = test.shape\n",
    "\n",
    "    X1 = np.c_[np.ones(trainshp[0]), train[:,1]]\n",
    "    X1test = np.c_[np.ones(testshp[0]), test[:,1]]\n",
    "    Beta1_v = np.matmul(np.linalg.inv(np.matmul(X1.transpose(), X1)), (np.matmul(X1.transpose(), Y)))\n",
    "    \n",
    "    predicted_model1 = np.matmul(X1test, Beta1_v)\n",
    "    res1 = predicted_model1 - Ytest\n",
    "    sse1 = np.sum(res1**2)\n",
    "    rmse1 += math.sqrt(sse1)\n",
    "    \n",
    "    X2 = np.c_[np.ones(trainshp[0]), train[:,2]]\n",
    "    X2test = np.c_[np.ones(testshp[0]), test[:,2]]\n",
    "    Beta2_v = np.matmul(np.linalg.inv(np.matmul(X2.transpose(), X2)), (np.matmul(X2.transpose(), Y)))\n",
    "    \n",
    "    predicted_model2 = np.matmul(X2test, Beta2_v)\n",
    "    res2 = predicted_model2 - Ytest\n",
    "    sse2 = np.sum(res2**2)\n",
    "    rmse2 += math.sqrt(sse2)\n",
    "    \n",
    "    X3 = np.c_[np.ones(trainshp[0]), train[:,1:3]]\n",
    "    X3test = np.c_[np.ones(testshp[0]), test[:,1:3]]\n",
    "    Beta3_v = np.matmul(np.linalg.inv(np.matmul(X3.transpose(), X3)), (np.matmul(X3.transpose(), Y)))\n",
    "                   \n",
    "    predicted_model3 = np.matmul(X3test, Beta3_v)\n",
    "    res3 = predicted_model3 - Ytest\n",
    "    sse3 = np.sum(res3**2)\n",
    "    rmse3 += math.sqrt(sse3)\n",
    "    \n",
    "# find avg RMSE for each model. \n",
    "avg_rmse1 = rmse1/5\n",
    "avg_rmse2 = rmse2/5\n",
    "avg_rmse3 = rmse3/5\n",
    "\n",
    "# Which is the best model?\n",
    "print avg_rmse1, avg_rmse2, avg_rmse3\n",
    "print \"Model 3 seems to be the best based on above cross validaton\""
   ]
  },
  {
   "cell_type": "code",
   "execution_count": 4,
   "metadata": {},
   "outputs": [
    {
     "name": "stdout",
     "output_type": "stream",
     "text": [
      "-1230.43707534\n",
      "861640418.282\n",
      "0.598164148314\n"
     ]
    }
   ],
   "source": [
    "# Finally, Give the R^2 score of the best model in the test set:\n",
    "test_data = np.load('utils/assign_1_data_1_test.npy')\n",
    "#print test_data[:,0]\n",
    "Y = test_data[:,0]\n",
    "X = np.c_[np.ones(test_data.shape[0]), test_data[:,1:3]]\n",
    "\n",
    "Ybar = sum(Y/test_data.shape[0])\n",
    "print Ybar\n",
    "stot = np.sum((test_data[:,0] - Ybar)**2)\n",
    "print stot\n",
    "\n",
    "predicted  = np.matmul(X, Beta3)\n",
    "res = predicted - Y\n",
    "sse = np.sum(res**2)\n",
    "\n",
    "r2 = 1 - (sse/stot)\n",
    "print r2"
   ]
  },
  {
   "cell_type": "code",
   "execution_count": 5,
   "metadata": {
    "scrolled": true
   },
   "outputs": [
    {
     "data": {
      "image/png": "[encoded data removed]",
      "text/plain": [
       "<matplotlib.figure.Figure at 0x7fb3e8190510>"
      ]
     },
     "metadata": {},
     "output_type": "display_data"
    },
    {
     "data": {
      "image/png": "[encoded data removed]",
      "text/plain": [
       "<matplotlib.figure.Figure at 0x7fb3c0028650>"
      ]
     },
     "metadata": {},
     "output_type": "display_data"
    },
    {
     "name": "stdout",
     "output_type": "stream",
     "text": [
      "Yes we can see that there is a second order relation between Y and X1, so a higher degree model will fit the data better\n",
      "0.974003862107\n"
     ]
    },
    {
     "data": {
      "image/png": "[encoded data removed]",
      "text/plain": [
       "<matplotlib.figure.Figure at 0x7fb3bbad4b90>"
      ]
     },
     "metadata": {},
     "output_type": "display_data"
    }
   ],
   "source": [
    "# Bonus\n",
    "import matplotlib.pyplot as plt\n",
    "# Show a graph between the predicted Y^ and the Ground truth Y\n",
    "plt.scatter(Y, predicted)\n",
    "plt.show()\n",
    "# Try to plot Y vs X_1 in train set.\n",
    "plt.scatter(train_data[:,1], train_data[:,0])\n",
    "plt.show()\n",
    "# can it help you improve your model?\n",
    "\n",
    "print \"Yes we can see that there is a second order relation between Y and X1, so a higher degree model will fit the data better\"\n",
    "# construct the better model.\n",
    "# Y = Beta1*X1^2 + Beta2*X2 + Beta0\n",
    "X1sq = train_data[:,1]**2\n",
    "X = np.c_[np.ones(train_data.shape[0]), X1sq, train_data[:,2]]\n",
    "\n",
    "Ytrain = train_data[:,0]\n",
    "Beta = np.matmul(np.linalg.inv(np.matmul(X.transpose(), X)), (np.matmul(X.transpose(), Ytrain)))\n",
    "\n",
    "Xtest = np.c_[np.ones(test_data.shape[0]),test_data[:,1]**2, test_data[:,2]]\n",
    "predicted = np.matmul(Xtest, Beta)\n",
    "res = predicted - Y\n",
    "sse = np.sum(res**2)\n",
    "\n",
    "r2 = 1 - (sse/stot)\n",
    "print r2\n",
    "\n",
    "plt.scatter(Y, predicted)\n",
    "plt.show()\n"
   ]
  },
  {
   "cell_type": "markdown",
   "metadata": {},
   "source": [
    "# Logistic Regression\n",
    "\n",
    "Generaly, Logistic Regression is used to predict categorial variables. For the simple problem of 2-way classification, the output $\\hat{y_i}$ is modeled as the probability that $\\{X_i\\}$ belongs to class $1$ (given two classes $0$, and $1$).\n",
    "\n",
    "$$ P( \\{X_i\\} \\in Set_1 ) = \\hat{y_i}, $$ ( $y_i$ is the actual label; $y_i \\in \\{ 0,1 \\}$ )\n",
    "\n",
    "\n",
    "$\\hat{y_i}$ is typically modeled as the output of a sigmoid on a linear combination of the input feature $\\{X_i\\}$:\n",
    "\n",
    "$$ \\mathbf {\\hat{y}} = \\sigma(X{\\boldsymbol {\\beta }}+{\\boldsymbol {\\varepsilon }}) = \\sigma_\\beta(X)$$"
   ]
  },
  {
   "cell_type": "markdown",
   "metadata": {},
   "source": [
    "Now, The likelihood of some given data for this model can be written as:\n",
    "\n",
    "$${\\displaystyle {\\begin{aligned}L(\\beta |x)&=Pr(Y|X;\\beta )\\\\&=\\prod _{i}Pr(y_{i}|x_{i};\\beta )\\\\&=\\prod _{i}\\sigma_{\\beta }(x_{i})^{y_{i}}(1-\\sigma_{\\beta }(x_{i}))^{(1-y_{i})}\\end{aligned}}}$$"
   ]
  },
  {
   "cell_type": "markdown",
   "metadata": {},
   "source": [
    "Unlike in the case of Linear regression, this equation has no closed form solution. Hence we will use gradient descent on the negative log-likelihood $J(\\beta)$ to find the optimal $\\beta$\n",
    "\n",
    "$$\n",
    "J(\\beta) = \\sum_i{\\big( y_ilog(\\hat{y_i})+ (1-y_i)log(1-\\hat{y_i}) \\big) }\n",
    "$$\n",
    "\n",
    "with the update equation:\n",
    "\n",
    "$$\n",
    "\\beta_j = \\beta_j + \\alpha \\times \\frac{ \\partial J(\\beta)}{\\partial \\beta}\n",
    "$$"
   ]
  },
  {
   "cell_type": "markdown",
   "metadata": {},
   "source": [
    "## Question 2\n",
    "\n",
    "a) You will write the code to find the optimal logistic regression model for the given data. The data contains 3 columns, each for $y, X_{1}$, and $X_{2}$ respectively. For the rate of learning $\\alpha$ use a linearly decaying policy, or step-wise reduction policy. \n",
    "\n",
    "$$ {\\displaystyle \\mathbf {y} =\\sigma \\big( {\\boldsymbol {\\beta_{1} }}X_1+ {\\boldsymbol {\\beta_{2} }}X_2+{\\boldsymbol {\\beta_{0} }}+{\\boldsymbol {\\varepsilon }}} \\big) $$\n",
    "\n",
    "b) Explore possible methods of adjusting the learning rate $\\alpha$ "
   ]
  },
  {
   "cell_type": "code",
   "execution_count": 101,
   "metadata": {},
   "outputs": [
    {
     "name": "stdout",
     "output_type": "stream",
     "text": [
      "6.23037044292\n",
      "6.23037044292\n"
     ]
    }
   ],
   "source": [
    "# Load the train dataset\n",
    "import math\n",
    "train_data = np.load('utils/assign_1_data_2_train.npy')\n",
    "# now write the code to find the parameters of the optimization.\n",
    "\n",
    "train_length = train_data.shape[0]\n",
    "\n",
    "def sigmoid(X, beta):\n",
    "    return 1/(1 + math.exp(-1 * np.matmul(X, beta)))\n",
    "\n",
    "def loss(X, beta, y):\n",
    "    sigms = np.zeros(X.shape[0])\n",
    "    #print train_length\n",
    "    for i in range(0, X.shape[0]):\n",
    "        sigms[i] = sigmoid(X[i,:], beta)\n",
    "    lossVal = -1 * (np.dot(y, np.log(sigms)) + np.dot((1-y), np.log(1-sigms)))/train_length\n",
    "    return lossVal\n",
    "                                   \n",
    "def gradient(X, Y, beta):\n",
    "    sigms = np.zeros(X.shape[0])\n",
    "    for i in range(0, X.shape[0]):\n",
    "        sigms[i] = sigmoid(X[i,:], beta)\n",
    "    grad = np.matmul((sigms - Y), X)/train_length\n",
    "    print grad\n",
    "    return grad\n",
    "                                   \n",
    "Y = train_data[:,0]\n",
    "X = np.c_[np.ones(train_data.shape[0]),train_data[:,1:3]]\n",
    "\n",
    "beta = [-10, 0.001, 0.001]\n",
    "lossOld = loss(X, beta, Y)\n",
    "lossNew = lossOld\n",
    "print lossNew\n",
    "print lossOld\n",
    "alpha0 = 0.00001                            \n"
   ]
  },
  {
   "cell_type": "code",
   "execution_count": 102,
   "metadata": {},
   "outputs": [
    {
     "name": "stdout",
     "output_type": "stream",
     "text": [
      "[ -0.51329565   0.5259653  -30.56517003]\n",
      "0.883116883117\n",
      "1\n",
      "[ -0.04192749   0.07277989 -10.35698695]\n",
      "[ -0.04158946   0.07245816 -10.33217242]\n",
      "1.11111111111\n",
      "2\n",
      "1.11111111111\n",
      "2\n"
     ]
    }
   ],
   "source": [
    "# test on a validation part every 't' iterations to find when you start overfitting.\n",
    "# t = ?\n",
    "shuffled = np.copy(train_data)\n",
    "np.random.shuffle(shuffled)\n",
    "l = shuffled.shape[0]\n",
    "fold = np.zeros((5,int(l/5)))\n",
    "for i in range(0,5):\n",
    "    start = (l*i)/5\n",
    "    end = (l*(i+1))/5\n",
    "    fold[i] = np.arange(start, end)\n",
    "\n",
    "test = shuffled[fold[0].astype(int), :]\n",
    "train = shuffled[np.setdiff1d(np.arange(0,l), fold[0]),:]\n",
    "\n",
    "trainY = train[:,0]\n",
    "testY = test[:,0]\n",
    "trainX = np.c_[np.ones(train.shape[0]),train[:,1:3]]\n",
    "testX = np.c_[np.ones(test.shape[0]),test[:,1:3]]\n",
    "\n",
    "#print testY\n",
    "lastError = 100  \n",
    "numIterations = 1\n",
    "overfit = False\n",
    "\n",
    "while (not overfit) and (numIterations < 50):\n",
    "    i = 0\n",
    "    while i < numIterations:\n",
    "        i+=1\n",
    "        alpha = alpha0/(1+i)\n",
    "        lossOld = lossNew\n",
    "        lossNew  = loss(trainX, beta, trainY);\n",
    "        grad = gradient(trainX, trainY, beta)\n",
    "        beta = beta - alpha*grad\n",
    "    \n",
    "    trainPred = predicted = np.matmul(trainX, beta)\n",
    "    testPred = predicted = np.matmul(testX, beta)\n",
    "    \n",
    "    for j in range(0, trainPred.shape[0]):\n",
    "            if trainPred[j] < 0:\n",
    "                trainPred[j] = 0\n",
    "            else:\n",
    "                trainPred[j] = 1\n",
    "    for j in range(0, testPred.shape[0]):\n",
    "            if testPred[j] < 0:\n",
    "                testPred[j] = 0\n",
    "            else:\n",
    "                testPred[j] = 1    \n",
    "        \n",
    "    trainError = float(float(np.sum(trainY != trainPred))/float(train.shape[0]))\n",
    "    testError = float(float(np.sum(testY != testPred))/float(test.shape[0]))\n",
    "    print testError/trainError\n",
    "    print numIterations    \n",
    "    if (testError/trainError >= lastError):\n",
    "        overfit = True\n",
    "        print testError/trainError\n",
    "        print numIterations\n",
    "    lastError  = (testError/trainError)\n",
    "    numIterations += 1\n",
    "\n",
    "    \n",
    "# Now for 't' iterations train on the entire dataset for testing on the test_data\n",
    "    beta = beta = [0.01, 0.01, 0.01]\n",
    "    while i < numIterations-1:\n",
    "        i+=1\n",
    "        alpha = alpha0/(1+i)\n",
    "        lossOld = lossNew\n",
    "        lossNew  = loss(X, beta, Y);\n",
    "        grad = gradient(X, Y, beta)\n",
    "        beta = beta - alpha*grad\n"
   ]
  },
  {
   "cell_type": "code",
   "execution_count": 103,
   "metadata": {},
   "outputs": [
    {
     "name": "stdout",
     "output_type": "stream",
     "text": [
      "[ 0.  0.  0.  1.  1.  1.  1.  0.  0.  1.  1.  0.  0.  1.  0.  0.  1.  0.\n",
      "  1.  1.  1.  1.  1.  1.  1.  0.  0.  1.  0.  0.  0.  0.  0.  1.  0.  0.\n",
      "  1.  0.  1.  0.  1.  0.  0.  1.  1.  1.  1.  1.  0.  1.  0.  1.  0.  0.\n",
      "  1.  1.  0.  0.  1.  1.  0.  0.  0.  0.  0.  0.  0.  1.  1.  1.  1.  0.\n",
      "  1.  1.  1.  0.  1.  0.  1.  1.  0.  0.  1.  0.  1.  0.  1.  0.  1.  0.\n",
      "  1.  1.  0.  0.  1.  0.  0.  1.  1.  1.  0.  0.  1.  1.  1.  1.  1.  1.\n",
      "  1.  0.  0.  0.  1.  1.  0.  1.  1.  1.  1.  1.  0.  1.  0.  0.  1.  0.\n",
      "  1.  0.  1.  0.  1.  1.  0.  0.  1.  0.  1.  0.  0.  1.  1.  0.  1.  1.\n",
      "  1.  0.  0.  1.  0.  1.]\n",
      "[ 1.  1.  1.  1.  1.  1.  1.  1.  0.  1.  1.  1.  1.  1.  1.  1.  1.  0.\n",
      "  1.  1.  1.  1.  1.  1.  1.  0.  0.  1.  1.  1.  1.  0.  1.  1.  0.  0.\n",
      "  1.  0.  1.  0.  1.  0.  0.  1.  1.  1.  1.  1.  1.  1.  0.  1.  1.  1.\n",
      "  1.  1.  0.  1.  1.  1.  0.  1.  1.  1.  0.  0.  1.  1.  1.  1.  1.  1.\n",
      "  1.  1.  1.  0.  1.  0.  1.  1.  0.  1.  1.  0.  1.  0.  1.  0.  1.  0.\n",
      "  1.  1.  1.  0.  1.  0.  0.  1.  1.  1.  1.  0.  1.  1.  1.  1.  1.  1.\n",
      "  1.  1.  0.  1.  1.  1.  0.  1.  1.  1.  1.  1.  0.  1.  1.  0.  1.  1.\n",
      "  1.  1.  1.  1.  1.  1.  0.  0.  1.  1.  1.  0.  1.  1.  1.  1.  1.  1.\n",
      "  1.  0.  0.  1.  1.  1.]\n",
      "116\n",
      "150\n",
      "0.226666666667\n"
     ]
    }
   ],
   "source": [
    "# find the accuracy on the test set:\n",
    "test_data = np.load('utils/assign_1_data_2_test.npy')\n",
    "Y = test_data[:,0]\n",
    "X = np.c_[np.ones(test_data.shape[0]),test_data[:,1:3]]\n",
    "\n",
    "predicted = np.matmul(X, beta)\n",
    "\n",
    "for i in range(0, predicted.shape[0]):\n",
    "    if predicted[i] < 0:\n",
    "        predicted[i] = 0\n",
    "    else:\n",
    "        predicted[i] = 1\n",
    "print Y\n",
    "print predicted\n",
    "print np.sum(Y == predicted)\n",
    "print test_data.shape[0]\n",
    "print float(float(np.sum(Y != predicted))/float(test_data.shape[0]))"
   ]
  },
  {
   "cell_type": "code",
   "execution_count": 9,
   "metadata": {
    "collapsed": true
   },
   "outputs": [],
   "source": [
    "# Bonus\n",
    "# Can you adjust the learning rate alpha in a better way?\n"
   ]
  },
  {
   "cell_type": "markdown",
   "metadata": {},
   "source": [
    "# EM algorithm\n",
    "\n",
    "This is a general framework for likelihood-based parameter estimation.\n",
    "A basic outline of this algorithm is:\n",
    "\n",
    "* start with initial guesses of parameters\n",
    "\n",
    "* E step: estimate memberships given params\n",
    "\n",
    "* M step: estimate params given memberships\n",
    "\n",
    "* Repeat until convergence\n",
    "\n",
    "** Refer to [this link](http://www.rmki.kfki.hu/~banmi/elte/bishop_em.pdf) (9.2.2) .**\n"
   ]
  },
  {
   "cell_type": "markdown",
   "metadata": {},
   "source": [
    "## Question 3\n",
    "\n",
    "Let ${\\displaystyle \\mathbf {x} =(\\mathbf {x} _{1},\\mathbf {x} _{2},\\ldots ,\\mathbf {x} _{n})} $ be a sample of $n$ independent observations from a mixture of two multivariate normal distributions of dimension $d$ , and let ${\\displaystyle \\mathbf {z} =(z_{1},z_{2},\\ldots ,z_{n})} $ be the latent variables that determine the component from which the observation originates.\n",
    "\n",
    "$X_i |(Z_i = 1) \\sim \\mathcal{N}_d(\\boldsymbol{\\mu}_1,\\Sigma_1)$ and $X_i |(Z_i = 2) \\sim \\mathcal{N}_d(\\boldsymbol{\\mu}_2,\\Sigma_2)$\n",
    "\n",
    "The aim is to estimate the unknown parameters representing the mixing value between the Gaussians and the means and covariances of each:\n",
    "\n",
    "$$ \\theta = \\big( \\boldsymbol{\\tau},\\boldsymbol{\\mu}_1,\\boldsymbol{\\mu}_2,\\Sigma_1,\\Sigma_2 \\big) $$\n",
    "\n",
    "a) Given the data, find the parameters $\\theta$ using EM algorithm.\n",
    "\n"
   ]
  },
  {
   "cell_type": "code",
   "execution_count": 10,
   "metadata": {},
   "outputs": [
    {
     "name": "stdout",
     "output_type": "stream",
     "text": [
      "(2, 1000)\n",
      "[ 62.61424657  51.45044505]\n",
      "[ 54.29367752  56.98163577]\n",
      "[[  84.57055459  -26.3396111 ]\n",
      " [ -26.3396111   176.6314843 ]]\n",
      "[[  84.57055459  -26.3396111 ]\n",
      " [ -26.3396111   176.6314843 ]]\n",
      "[ 59.75242214  62.38205093] [ 52.29546474  67.30961964]\n",
      "[[  95.24238741  -14.01147401]\n",
      " [ -14.01147401  133.91126053]] [[  55.8708016   -19.87331677]\n",
      " [ -19.87331677  194.71440203]]\n",
      "[ 59.4511416   61.92407296] [ 51.47201306  68.43594437]\n",
      "[[ 102.32774023   -8.50571607]\n",
      " [  -8.50571607  117.21731324]] [[  38.92870193  -17.71252919]\n",
      " [ -17.71252919  209.40355153]]\n",
      "[ 59.92654293  60.87763995] [ 50.93727869  69.4716456 ]\n",
      "[[ 103.33916795    0.55504533]\n",
      " [   0.55504533  101.2256481 ]] [[  28.98944173  -13.97508788]\n",
      " [ -13.97508788  210.13324951]]\n",
      "[ 60.41356386  59.61577165] [ 50.51098843  70.60131548]\n",
      "[[ 100.4669707    12.42806988]\n",
      " [  12.42806988   86.23962017]] [[  23.52509664   -9.70756068]\n",
      " [  -9.70756068  201.27418308]]\n",
      "[ 60.77104777  58.31289807] [ 50.19791162  71.76872643]\n",
      "[[ 96.41207943  25.5102749 ]\n",
      " [ 25.5102749   73.28126729]] [[  20.76128965   -5.59562882]\n",
      " [  -5.59562882  184.18936296]]\n",
      "[ 60.96037687  57.11856138] [ 50.003654    72.88246678]\n",
      "[[ 93.07366558  37.52138582]\n",
      " [ 37.52138582  64.25091208]] [[  19.69858997   -2.03779233]\n",
      " [  -2.03779233  160.47327218]]\n",
      "[ 60.95634152  56.20191298] [ 49.92313594  73.85025479]\n",
      "[[ 91.65674452  46.13116485]\n",
      " [ 46.13116485  60.32572559]] [[  19.60351499    0.34797667]\n",
      " [   0.34797667  134.4935649 ]]\n",
      "[ 60.83989351  55.65276735] [ 49.92033051  74.54838232]\n",
      "[[ 91.84357907  50.65796982]\n",
      " [ 50.65796982  59.50968188]] [[  19.86870275    1.32997999]\n",
      " [   1.32997999  113.76176649]]\n",
      "[ 60.72717164  55.40532129] [ 49.93587809  74.94614207]\n",
      "[[ 92.34229988  52.34487392]\n",
      " [ 52.34487392  59.24519139]] [[  20.12404107    1.56463969]\n",
      " [   1.56463969  102.24084207]]\n",
      "[ 60.65037021  55.31912884] [ 49.94367183  75.15094584]\n",
      "[[ 92.65172306  52.72237555]\n",
      " [ 52.72237555  58.97100932]] [[ 20.2625262    1.62859605]\n",
      " [  1.62859605  97.07813881]]\n",
      "[ 60.60350899  55.29484   ] [ 49.94394433  75.25933403]\n",
      "[[ 92.79012287  52.70293781]\n",
      " [ 52.70293781  58.79294518]] [[ 20.31182408   1.67853916]\n",
      " [  1.67853916  94.7775054 ]]\n",
      "[ 60.57540151  55.29040096] [ 49.94107243  75.32099083]\n",
      "[[ 92.84059829  52.60797524]\n",
      " [ 52.60797524  58.70057945]] [[ 20.31853134   1.72988835]\n",
      " [  1.72988835  93.64776082]]\n",
      "[ 60.55819888  55.29145297] [ 49.93769054  75.35838919]\n",
      "[[ 92.85414367  52.52004631]\n",
      " [ 52.52004631  58.65375974]] [[ 20.31090744   1.77608816]\n",
      " [  1.77608816  93.03043608]]\n",
      "[ 60.54738118  55.29353169] [ 49.9348059   75.38205857]\n",
      "[[ 92.85445477  52.45366658]\n",
      " [ 52.45366658  58.62872399]] [[ 20.30088348   1.81294273]\n",
      " [  1.81294273  92.66457176]]\n",
      "[ 60.54042409  55.29539956] [ 49.93262728  75.39741567]\n",
      "[[ 92.85109853  52.40681776]\n",
      " [ 52.40681776  58.61439144]] [[ 20.29229196   1.84021286]\n",
      " [  1.84021286  92.43613656]]\n",
      "[ 60.53587957  55.29681769] [ 49.93107405  75.40751784]\n",
      "[[ 92.84745753  52.37465828]\n",
      " [ 52.37465828  58.6057054 ]] [[ 20.28584362   1.85952099]\n",
      " [  1.85952099  92.28908229]]\n",
      "[ 60.53288157  55.29782693] [ 49.92999905  75.41421332]\n",
      "[[ 92.84448953  52.35286132]\n",
      " [ 52.35286132  58.60022904]] [[ 20.28127375   1.87285082]\n",
      " [  1.87285082  92.19278055]]\n",
      "[ 60.53089208  55.29852419] [ 49.92926665  75.4186691 ]\n",
      "[[ 92.84230472  52.3381793 ]\n",
      " [ 52.3381793   58.59668964]] [[ 20.27812408   1.88192316]\n",
      " [  1.88192316  92.12911707]]\n",
      "[ 60.52956729  55.29899881] [ 49.92877189  75.42164103]\n",
      "[[ 92.84076944  52.32832105]\n",
      " [ 52.32832105  58.59436823]] [[ 20.2759839    1.88804902]\n",
      " [  1.88804902  92.08681142]]\n",
      "[ 60.52868339  55.29931939] [ 49.92843919  75.42362572]\n",
      "[[ 92.83971539  52.32171279]\n",
      " [ 52.32171279  58.59283273]] [[ 20.27454042   1.89216733]\n",
      " [  1.89216733  92.05861791]]\n",
      "[ 60.528093    55.29953501] [ 49.92821602  75.42495204]\n",
      "[[ 92.83900044  52.31728713]\n",
      " [ 52.31728713  58.59181216]] [[ 20.27357065   1.89492944]\n",
      " [  1.89492944  92.03979912]]\n",
      "[ 60.5276984   55.29967969] [ 49.92806651  75.42583874]\n",
      "[[ 92.83851862  52.31432468]\n",
      " [ 52.31432468  58.59113201]] [[ 20.27292048   1.89677961]\n",
      " [  1.89677961  92.02722658]]\n",
      "[ 60.52743457  55.29977666] [ 49.92796642  75.42643166]\n",
      "[[ 92.83819502  52.31234224]\n",
      " [ 52.31234224  58.59067801]] [[ 20.27248505   1.89801808]\n",
      " [  1.89801808  92.01882276]]\n",
      "[ 60.52725815  55.29984159] [ 49.92789945  75.42682819]\n",
      "[[ 92.83797809  52.31101584]\n",
      " [ 52.31101584  58.5903747 ]] [[ 20.27219361   1.8988468 ]\n",
      " [  1.8988468   92.01320379]]\n",
      "[ 60.52714015  55.29988505] [ 49.92785464  75.42709341]\n",
      "[[ 92.83783281  52.31012846]\n",
      " [ 52.31012846  58.59017197]] [[ 20.2719986    1.89940123]\n",
      " [  1.89940123  92.00944618]]\n",
      "[ 60.52706123  55.29991413] [ 49.92782466  75.4272708 ]\n",
      "[[ 92.83773558  52.30953482]\n",
      " [ 52.30953482  58.59003641]] [[ 20.27186814   1.89977213]\n",
      " [  1.89977213  92.00693307]]\n",
      "[ 60.52700844  55.29993359] [ 49.92780461  75.42738945]\n",
      "[[ 92.83767051  52.30913771]\n",
      " [ 52.30913771  58.58994577]] [[ 20.27178087   1.90002023]\n",
      " [  1.90002023  92.0052522 ]]\n",
      "[ 60.52697313  55.29994661] [ 49.92779119  75.42746882]\n",
      "[[ 92.83762698  52.30887207]\n",
      " [ 52.30887207  58.58988514]] [[ 20.27172249   1.9001862 ]\n",
      " [  1.9001862   92.00412791]]\n",
      "[ 60.52694951  55.29995532] [ 49.92778222  75.42752191]\n",
      "[[ 92.83759786  52.30869438]\n",
      " [ 52.30869438  58.58984459]] [[ 20.27168343   1.90029721]\n",
      " [  1.90029721  92.00337589]]\n",
      "[ 60.52693371  55.29996114] [ 49.92777622  75.42755742]\n",
      "[[ 92.83757838  52.30857552]\n",
      " [ 52.30857552  58.58981747]] [[ 20.27165731   1.90037147]\n",
      " [  1.90037147  92.00287287]]\n",
      "[ 60.52692315  55.29996504] [ 49.9277722   75.42758117]\n",
      "[[ 92.83756535  52.30849601]\n",
      " [ 52.30849601  58.58979933]] [[ 20.27163984   1.90042114]\n",
      " [  1.90042114  92.0025364 ]]\n",
      "[ 60.52691608  55.29996765] [ 49.92776952  75.42759706]\n",
      "[[ 92.83755663  52.30844282]\n",
      " [ 52.30844282  58.58978719]] [[ 20.27162815   1.90045437]\n",
      " [  1.90045437  92.00231133]]\n",
      "[ 60.52691135  55.29996939] [ 49.92776772  75.42760769]\n",
      "[[ 92.8375508   52.30840724]\n",
      " [ 52.30840724  58.58977908]] [[ 20.27162033   1.90047659]\n",
      " [  1.90047659  92.00216079]]\n",
      "[ 60.52690819  55.29997056] [ 49.92776652  75.4276148 ]\n",
      "[[ 92.8375469   52.30838345]\n",
      " [ 52.30838345  58.58977365]] [[ 20.2716151    1.90049146]\n",
      " [  1.90049146  92.00206008]]\n",
      "[ 60.52690607  55.29997134] [ 49.92776571  75.42761955]\n",
      "[[ 92.83754429  52.30836753]\n",
      " [ 52.30836753  58.58977002]] [[ 20.2716116    1.9005014 ]\n",
      " [  1.9005014   92.00199272]]\n",
      "[ 60.52690466  55.29997186] [ 49.92776518  75.42762273]\n",
      "[[ 92.83754255  52.30835688]\n",
      " [ 52.30835688  58.58976759]] [[ 20.27160926   1.90050806]\n",
      " [  1.90050806  92.00194766]]\n",
      "[ 60.52690371  55.29997221] [ 49.92776482  75.42762486]\n",
      "[[ 92.83754138  52.30834976]\n",
      " [ 52.30834976  58.58976596]] [[ 20.2716077    1.90051251]\n",
      " [  1.90051251  92.00191752]]\n",
      "[ 60.52690308  55.29997244] [ 49.92776458  75.42762628]\n",
      "[[ 92.8375406   52.30834499]\n",
      " [ 52.30834499  58.58976487]] [[ 20.27160665   1.90051548]\n",
      " [  1.90051548  92.00189736]]\n",
      "[ 60.52690265  55.2999726 ] [ 49.92776442  75.42762724]\n",
      "[[ 92.83754008  52.30834181]\n",
      " [ 52.30834181  58.58976415]] [[ 20.27160595   1.90051747]\n",
      " [  1.90051747  92.00188388]]\n",
      "[ 60.52690237  55.2999727 ] [ 49.92776431  75.42762787]\n",
      "[[ 92.83753973  52.30833968]\n",
      " [ 52.30833968  58.58976366]] [[ 20.27160548   1.9005188 ]\n",
      " [  1.9005188   92.00187486]]\n",
      "[ 60.52690218  55.29997277] [ 49.92776424  75.4276283 ]\n",
      "[[ 92.8375395   52.30833825]\n",
      " [ 52.30833825  58.58976334]] [[ 20.27160517   1.90051969]\n",
      " [  1.90051969  92.00186882]]\n",
      "[ 60.52690205  55.29997282] [ 49.92776419  75.42762858]\n",
      "[[ 92.83753934  52.3083373 ]\n",
      " [ 52.3083373   58.58976312]] [[ 20.27160496   1.90052029]\n",
      " [  1.90052029  92.00186479]]\n",
      "[ 60.52690197  55.29997285] [ 49.92776416  75.42762877]\n",
      "[[ 92.83753923  52.30833666]\n",
      " [ 52.30833666  58.58976297]] [[ 20.27160482   1.90052069]\n",
      " [  1.90052069  92.00186209]]\n",
      "[ 60.52690191  55.29997287] [ 49.92776413  75.4276289 ]\n",
      "[[ 92.83753916  52.30833623]\n",
      " [ 52.30833623  58.58976288]] [[ 20.27160472   1.90052096]\n",
      " [  1.90052096  92.00186028]]\n",
      "[ 60.52690187  55.29997289] [ 49.92776412  75.42762899]\n",
      "[[ 92.83753912  52.30833595]\n",
      " [ 52.30833595  58.58976281]] [[ 20.27160466   1.90052113]\n",
      " [  1.90052113  92.00185907]]\n",
      "[ 60.52690185  55.2999729 ] [ 49.92776411  75.42762904]\n",
      "[[ 92.83753909  52.30833576]\n",
      " [ 52.30833576  58.58976277]] [[ 20.27160462   1.90052125]\n",
      " [  1.90052125  92.00185826]]\n",
      "[ 60.52690183  55.2999729 ] [ 49.9277641   75.42762908]\n",
      "[[ 92.83753907  52.30833563]\n",
      " [ 52.30833563  58.58976274]] [[ 20.27160459   1.90052133]\n",
      " [  1.90052133  92.00185772]]\n",
      "[ 60.52690182  55.29997291] [ 49.9277641   75.42762911]\n",
      "[[ 92.83753905  52.30833554]\n",
      " [ 52.30833554  58.58976272]] [[ 20.27160457   1.90052139]\n",
      " [  1.90052139  92.00185736]]\n",
      "[ 60.52690181  55.29997291] [ 49.9277641   75.42762912]\n",
      "[[ 92.83753904  52.30833548]\n",
      " [ 52.30833548  58.5897627 ]] [[ 20.27160456   1.90052142]\n",
      " [  1.90052142  92.00185712]]\n",
      "[ 60.52690181  55.29997291] [ 49.92776409  75.42762914]\n",
      "[[ 92.83753904  52.30833545]\n",
      " [ 52.30833545  58.5897627 ]] [[ 20.27160455   1.90052145]\n",
      " [  1.90052145  92.00185696]]\n"
     ]
    }
   ],
   "source": [
    "# Load the train dataset \n",
    "from scipy.stats import multivariate_normal\n",
    "data = np.load('utils/assign_1_data_3.npy')\n",
    "# The data is a 1000*2 numpy array, where each row is a independent observation, and \n",
    "# the columns are measurement in dimension x and y respectively. \n",
    "# now write the code to find the parameter theta.\n",
    "#print data\n",
    "dt =  data.transpose()\n",
    "print dt.shape\n",
    "\n",
    "mu1_index = np.random.randint(0, data.shape[0])\n",
    "mu2_index = np.random.randint(0, data.shape[0])\n",
    "\n",
    "mu1 = data[mu1_index]\n",
    "mu2 = data[mu2_index]\n",
    "\n",
    "print mu1\n",
    "print mu2\n",
    "cov1 = np.cov(dt)\n",
    "cov2 = np.cov(dt)\n",
    "print cov1\n",
    "print cov2\n",
    "\n",
    "for i in range(0,50):\n",
    "    normal1 = multivariate_normal(mu1, cov1)\n",
    "    normal2 = multivariate_normal(mu2, cov2)\n",
    "\n",
    "    weights =  np.zeros(data.shape)\n",
    "    weights[:,0] = normal1.pdf(data)\n",
    "    weights[:,1] = normal2.pdf(data)\n",
    "    #print weights\n",
    "    sum = (weights[:,0] + weights[:,1])\n",
    "    weights[:,0] = np.divide( weights[:,0], sum)\n",
    "    weights[:,1] = np.divide( weights[:,1], sum)\n",
    "    #print weights\n",
    "\n",
    "    mu1 = np.average(data, weights = weights[:,0], axis = 0)\n",
    "    mu2 = np.average(data, weights = weights[:,1], axis = 0)\n",
    "\n",
    "    cov1 = np.cov(dt, aweights = weights[:,0])\n",
    "    cov2 = np.cov(dt, aweights = weights[:,1])\n",
    "\n",
    "    print mu1, mu2\n",
    "    print cov1, cov2\n",
    "    i+=1\n"
   ]
  },
  {
   "cell_type": "code",
   "execution_count": 11,
   "metadata": {},
   "outputs": [
    {
     "name": "stdout",
     "output_type": "stream",
     "text": [
      "The weights are given by the following matrix: \n",
      "[[  4.58953580e-05   9.99954105e-01]\n",
      " [  9.86757068e-01   1.32429324e-02]\n",
      " [  2.34192246e-08   9.99999977e-01]\n",
      " ..., \n",
      " [  5.07855972e-10   9.99999999e-01]\n",
      " [  9.99998661e-01   1.33862752e-06]\n",
      " [  6.17665298e-01   3.82334702e-01]]\n",
      "The mean and covariance matrices are given by the following: \n",
      "[ 60.52690181  55.29997291] [[ 92.83753904  52.30833545]\n",
      " [ 52.30833545  58.5897627 ]]\n",
      "[ 49.92776409  75.42762914] [[ 20.27160455   1.90052145]\n",
      " [  1.90052145  92.00185696]]\n"
     ]
    }
   ],
   "source": [
    "# Parameters are given by:\n",
    "print \"The weights are given by the following matrix: \"\n",
    "print weights\n",
    "print \"The mean and covariance matrices are given by the following: \"\n",
    "print mu1, cov1\n",
    "print mu2, cov2"
   ]
  },
  {
   "cell_type": "code",
   "execution_count": 12,
   "metadata": {},
   "outputs": [
    {
     "data": {
      "image/png": "[encoded data removed]",
      "text/plain": [
       "<matplotlib.figure.Figure at 0x7fb3cb6678d0>"
      ]
     },
     "metadata": {},
     "output_type": "display_data"
    }
   ],
   "source": [
    "from matplotlib.mlab import bivariate_normal\n",
    "# Visualize the entire data by plotting them as points in a 2-D canvas.  \n",
    "# Show the estimated means and the standard deviations.\n",
    "\n",
    "plt.scatter(data[:,0], data[:,1])\n",
    "plt.scatter(mu1[0], mu1[1])\n",
    "plt.scatter(mu2[0], mu2[1])\n",
    "plt.show()"
   ]
  },
  {
   "cell_type": "markdown",
   "metadata": {},
   "source": [
    "# Clustering\n",
    "\n",
    "For clustering we covered two algorithms\n",
    "\n",
    "1) K-means : An iterative method to get 'K' clusters, initializing them randomly\n",
    "\n",
    "2) Hirarchical : An iterative method to get a dendogram of clustering with various numbers of cluster centers.\n",
    "\n",
    "### K-means Clustering\n",
    "\n",
    "We initialize $K$ cluster centers $\\{ c_1,c_2 ,... c_k\\}$for $K$-clusters randomly. All the data points are assigned a cluster index $D_i \\in \\{ 1,2,...,k\\}$, based on the closest cluster center to each point.\n",
    "\n",
    "Now, for each cluster, the cluster centers are re-evaluated as the mean of all the points in the center.\n",
    "\n",
    "$$\n",
    "c_i = mean(\\{ X_j | D_j = i \\})\n",
    "$$\n",
    "This process continues till convergence.\n"
   ]
  },
  {
   "cell_type": "markdown",
   "metadata": {},
   "source": [
    "## Question 4\n",
    "\n",
    "The dataset contains 1000  color images.Convert them to grayscale images. We need to cluster them into various $n$ clusters based on the similarity of their histograms. For each image, find the histogram with bin size 25 (last bin of 30;i.e.225-255;giving you 10 bins). Now treating each of these bins as seperate dimensions, find:\n",
    "\n",
    "a) Cluster Centers for $n = 5$ clusters, with $L_2$ distance criteria for measuring distance between a pair of images.\n",
    "\n",
    "b) **Bonus**: Use Earth Movers Distance in the above problem."
   ]
  },
  {
   "cell_type": "code",
   "execution_count": 13,
   "metadata": {
    "collapsed": true
   },
   "outputs": [],
   "source": [
    "# For this problem we will be using the 1000 test images of CIFAR-10 dataset.\n",
    "## Load the data from the following link\n",
    "# https://www.cs.toronto.edu/~kriz/cifar.html\n",
    "def unpickle(file):\n",
    "    import cPickle\n",
    "    with open(file, 'rb') as fo:\n",
    "        dict = cPickle.load(fo)\n",
    "    return dict\n",
    "\n",
    "batch = unpickle(\"/home/kunal/Downloads/IISC/sem2/DLCV/DLCV-assignments/cifar-10-batches-py/test_batch\")"
   ]
  },
  {
   "cell_type": "code",
   "execution_count": 14,
   "metadata": {
    "collapsed": true
   },
   "outputs": [],
   "source": [
    "# Convert it to grayscale values\n",
    "grayscaleData = np.zeros((10000, 1024))\n",
    "\n",
    "data = batch[\"data\"]\n",
    "data16 = data.astype(np.uint16)\n",
    "#print data[:,0]\n",
    "for j in range(0,1024):\n",
    "    #print data16[:,j] \n",
    "    #print data16[:,j+1024]\n",
    "    #print data16[:,j+2048]\n",
    "    #print (data16[:,j] + data16[:,j+1024] + data16[:,j+2048])\n",
    "    grayscaleData[:,j] = (data16[:,j] + data16[:,j+1024] + data16[:,j+2048])/3\n",
    "    #print grayscaleData\n",
    "#print grayscaleData\n",
    "\n",
    "# The variable newData contains the grayscale values of all 10000 test images "
   ]
  },
  {
   "cell_type": "code",
   "execution_count": 15,
   "metadata": {},
   "outputs": [
    {
     "name": "stdout",
     "output_type": "stream",
     "text": [
      "(10000, 1024)\n",
      "(10000, 10)\n",
      "[[  0  22  99 ...,  45  15  10]\n",
      " [100  55  47 ...,  79 114 294]\n",
      " [ 12 138  93 ...,  66  98  93]\n",
      " ..., \n",
      " [429 219  69 ...,  22   7   6]\n",
      " [ 64  98 124 ...,  33  29  27]\n",
      " [  1  76 180 ...,  11  18  48]]\n"
     ]
    }
   ],
   "source": [
    "# find the histograms and get a 10-dimensional representation of each images.\n",
    "grayscaleHist = np.zeros((10000, 10))\n",
    "print grayscaleData.shape\n",
    "for i in range(0, 10000):\n",
    "    hist , bin_edges = np.histogram(grayscaleData[i,:] ,bins=10, range = (0,255))\n",
    "    grayscaleHist[i, :]  = hist\n",
    "print grayscaleHist.shape\n",
    "print grayscaleHist.astype(int)"
   ]
  },
  {
   "cell_type": "code",
   "execution_count": 16,
   "metadata": {},
   "outputs": [
    {
     "name": "stdout",
     "output_type": "stream",
     "text": [
      "[[  26.   49.   77.   85.   88.   77.   74.   66.   88.  395.]\n",
      " [  21.   44.   70.   94.  152.  260.  258.   84.   27.   14.]\n",
      " [  31.   54.   80.   91.   98.   99.  133.  209.  174.   54.]\n",
      " [  17.   47.  119.  236.  292.  161.   75.   39.   23.   16.]\n",
      " [ 101.  173.  219.  164.  115.   82.   65.   45.   33.   26.]]\n"
     ]
    }
   ],
   "source": [
    "# Use K-means to find  out the number of cluster centers.\n",
    "centres_ind = np.random.randint(0,10000, size = 5)\n",
    "#print centres_ind\n",
    "centres = grayscaleHist[centres_ind,:]\n",
    "#print centres\n",
    "centresUpdated = True\n",
    "centrebins = dict()\n",
    "k =0\n",
    "closest = 0\n",
    "centre_diff = 21\n",
    "# the sum of squared diff between iterations, when less than 20 has been used as a convergence hyperparameter.\n",
    "while centre_diff > 20:\n",
    "    centresOld  = np.copy(centres)\n",
    "    for r in range(0,5):\n",
    "        centrebins[r] = []\n",
    "    for i in range(0,10000):\n",
    "        for j in range(0,5):\n",
    "            if (j==0):\n",
    "                minm = (np.sum((grayscaleHist[i] - centres[j])**2))\n",
    "                closest = 0\n",
    "            else:\n",
    "                dist = (np.sum((grayscaleHist[i] - centres[j])**2))\n",
    "                if (dist < minm):\n",
    "                    minm = dist\n",
    "                    closest = j   \n",
    "        centrebins[closest].append(i)\n",
    "        \n",
    "    for l in range(0,5):\n",
    "        #print  grayscaleHist[centrebins[l]].shape\n",
    "        centres[l] =  np.round(np.mean(grayscaleHist[centrebins[l]].astype(int),0))\n",
    "    #print centres - centresOld\n",
    "    centre_diff = np.sum(np.sum((centres - centresOld)**2, 1), 0)\n",
    "    #print centre_diff\n",
    "    \n",
    "    k+=1\n",
    "\n",
    "print centres"
   ]
  },
  {
   "cell_type": "code",
   "execution_count": 17,
   "metadata": {},
   "outputs": [
    {
     "data": {
      "image/png": "[encoded data removed]",
      "text/plain": [
       "<matplotlib.figure.Figure at 0x7fb3b37c9b50>"
      ]
     },
     "metadata": {},
     "output_type": "display_data"
    },
    {
     "data": {
      "image/png": "[encoded data removed]",
      "text/plain": [
       "<matplotlib.figure.Figure at 0x7fb3bba46790>"
      ]
     },
     "metadata": {},
     "output_type": "display_data"
    },
    {
     "data": {
      "image/png": "[encoded data removed]",
      "text/plain": [
       "<matplotlib.figure.Figure at 0x7fb3b371fe90>"
      ]
     },
     "metadata": {},
     "output_type": "display_data"
    },
    {
     "data": {
      "image/png": "[encoded data removed]",
      "text/plain": [
       "<matplotlib.figure.Figure at 0x7fb3b373c750>"
      ]
     },
     "metadata": {},
     "output_type": "display_data"
    },
    {
     "data": {
      "image/png": "[encoded data removed]",
      "text/plain": [
       "<matplotlib.figure.Figure at 0x7fb3b360f4d0>"
      ]
     },
     "metadata": {},
     "output_type": "display_data"
    },
    {
     "name": "stdout",
     "output_type": "stream",
     "text": [
      "Here the X axis is the bin number which is defined as mentioned above ([0-25, [25-50] ... [225, 255])\n",
      "The cluster means are histograms with each showing high frequency for a certain range of grayscale values (low, mid or high)\n"
     ]
    }
   ],
   "source": [
    "# Visualize cluster means to see what they look like.\n",
    "a = np.array([1,2,3,4,5,6,7,8,9,10])\n",
    "for i in range(0,5):\n",
    "    plt.scatter(a, centres[i])\n",
    "    plt.show()\n",
    "    \n",
    "print \"Here the X axis is the bin number which is defined as mentioned above ([0-25, [25-50] ... [225, 255])\"\n",
    "print \"The cluster means are histograms with each showing high frequency for a certain range of grayscale values (low, mid or high)\""
   ]
  },
  {
   "cell_type": "markdown",
   "metadata": {},
   "source": [
    "# References\n",
    "\n",
    "Useful references will be added shortly.\n",
    "\n",
    "1) Linear Regression\n",
    "  * [Wikipedia](https://en.wikipedia.org/wiki/Linear_regression)\n",
    "\n",
    "2) Logistic Regression\n",
    "  * [Wikipedia](https://en.wikipedia.org/wiki/Logistic_regression)\n",
    "  * [Win Vector Blog](http://www.win-vector.com/blog/2011/09/the-simpler-derivation-of-logistic-regression/)\n",
    "  * [Renselaer Course Slides](http://www.cs.rpi.edu/~magdon/courses/LFD-Slides/SlidesLect09.pdf)\n",
    "  \n",
    "3) EM\n",
    "  * [Cambridge Tutorial](http://www.cs.huji.ac.il/~yweiss/emTutorial.pdf)\n",
    "  * [Chapter 9 - Pattern Recognition and Machine Learning by Christopher M. Bishop](http://www.rmki.kfki.hu/~banmi/elte/bishop_em.pdf)\n",
    "  * [Wikipedia](https://en.wikipedia.org/wiki/Expectation%E2%80%93maximization_algorithm)\n",
    "  \n",
    "4) K-means\n",
    "  * [Wikipedia](https://en.wikipedia.org/wiki/K-means_clustering)"
   ]
  }
 ],
 "metadata": {
  "kernelspec": {
   "display_name": "Python 2",
   "language": "python",
   "name": "python2"
  },
  "language_info": {
   "codemirror_mode": {
    "name": "ipython",
    "version": 2
   },
   "file_extension": ".py",
   "mimetype": "text/x-python",
   "name": "python",
   "nbconvert_exporter": "python",
   "pygments_lexer": "ipython2",
   "version": "2.7.14"
  }
 },
 "nbformat": 4,
 "nbformat_minor": 2
}
